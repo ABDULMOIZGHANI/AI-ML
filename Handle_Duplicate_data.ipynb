{
 "cells": [
  {
   "cell_type": "code",
   "execution_count": 31,
   "id": "6a93c9e3",
   "metadata": {},
   "outputs": [],
   "source": [
    "import pandas as pd\n",
    "\n",
    "data = {\n",
    "    \"name\": [\"a\", \"b\", \"c\", \"d\", \"a\", \"c\"],\n",
    "    \"eng\": [8, 7, 5, 8, 8, 4],\n",
    "    \"urdu\": [2, 3, 4, 5, 2, 6]\n",
    "}"
   ]
  },
  {
   "cell_type": "code",
   "execution_count": 35,
   "id": "623a26e0",
   "metadata": {},
   "outputs": [
    {
     "data": {
      "text/html": [
       "<div>\n",
       "<style scoped>\n",
       "    .dataframe tbody tr th:only-of-type {\n",
       "        vertical-align: middle;\n",
       "    }\n",
       "\n",
       "    .dataframe tbody tr th {\n",
       "        vertical-align: top;\n",
       "    }\n",
       "\n",
       "    .dataframe thead th {\n",
       "        text-align: right;\n",
       "    }\n",
       "</style>\n",
       "<table border=\"1\" class=\"dataframe\">\n",
       "  <thead>\n",
       "    <tr style=\"text-align: right;\">\n",
       "      <th></th>\n",
       "      <th>name</th>\n",
       "      <th>eng</th>\n",
       "      <th>urdu</th>\n",
       "    </tr>\n",
       "  </thead>\n",
       "  <tbody>\n",
       "    <tr>\n",
       "      <th>0</th>\n",
       "      <td>a</td>\n",
       "      <td>8</td>\n",
       "      <td>2</td>\n",
       "    </tr>\n",
       "    <tr>\n",
       "      <th>1</th>\n",
       "      <td>b</td>\n",
       "      <td>7</td>\n",
       "      <td>3</td>\n",
       "    </tr>\n",
       "    <tr>\n",
       "      <th>2</th>\n",
       "      <td>c</td>\n",
       "      <td>5</td>\n",
       "      <td>4</td>\n",
       "    </tr>\n",
       "    <tr>\n",
       "      <th>3</th>\n",
       "      <td>d</td>\n",
       "      <td>8</td>\n",
       "      <td>5</td>\n",
       "    </tr>\n",
       "    <tr>\n",
       "      <th>5</th>\n",
       "      <td>c</td>\n",
       "      <td>4</td>\n",
       "      <td>6</td>\n",
       "    </tr>\n",
       "  </tbody>\n",
       "</table>\n",
       "</div>"
      ],
      "text/plain": [
       "  name  eng  urdu\n",
       "0    a    8     2\n",
       "1    b    7     3\n",
       "2    c    5     4\n",
       "3    d    8     5\n",
       "5    c    4     6"
      ]
     },
     "execution_count": 35,
     "metadata": {},
     "output_type": "execute_result"
    }
   ],
   "source": [
    "df = pd.DataFrame(data)\n",
    "df.drop_duplicates(inplace=True)\n",
    "\n",
    "df\n"
   ]
  },
  {
   "cell_type": "code",
   "execution_count": 36,
   "id": "34b0b0c4",
   "metadata": {},
   "outputs": [
    {
     "data": {
      "text/html": [
       "<div>\n",
       "<style scoped>\n",
       "    .dataframe tbody tr th:only-of-type {\n",
       "        vertical-align: middle;\n",
       "    }\n",
       "\n",
       "    .dataframe tbody tr th {\n",
       "        vertical-align: top;\n",
       "    }\n",
       "\n",
       "    .dataframe thead th {\n",
       "        text-align: right;\n",
       "    }\n",
       "</style>\n",
       "<table border=\"1\" class=\"dataframe\">\n",
       "  <thead>\n",
       "    <tr style=\"text-align: right;\">\n",
       "      <th></th>\n",
       "      <th>Registration Type</th>\n",
       "      <th>Corporation Name</th>\n",
       "      <th>Trade Name</th>\n",
       "      <th>Business Address</th>\n",
       "      <th>Business Address2</th>\n",
       "      <th>City</th>\n",
       "      <th>State</th>\n",
       "      <th>Zip</th>\n",
       "      <th>Phone Number</th>\n",
       "      <th># ASE Certified Mechanics</th>\n",
       "      <th>Tow Storage Address</th>\n",
       "      <th>Tow Storage 2</th>\n",
       "      <th>Tow Storage City</th>\n",
       "      <th>Tow Storage State</th>\n",
       "      <th>Tow Storage Zip</th>\n",
       "      <th>Tow Storage Phone</th>\n",
       "      <th>Issue Date</th>\n",
       "      <th>Expiration</th>\n",
       "      <th>Registration No.</th>\n",
       "      <th>Location</th>\n",
       "    </tr>\n",
       "  </thead>\n",
       "  <tbody>\n",
       "    <tr>\n",
       "      <th>0</th>\n",
       "      <td>Corporation</td>\n",
       "      <td>MG Auto &amp; Truck Repair Services LLC</td>\n",
       "      <td>MG Auto &amp; Truck Repair Services LLC</td>\n",
       "      <td>8146 Beechcraft Ave.</td>\n",
       "      <td>8146</td>\n",
       "      <td>Gaithersburg</td>\n",
       "      <td>MD</td>\n",
       "      <td>20879</td>\n",
       "      <td>(301) 848-1294</td>\n",
       "      <td>0</td>\n",
       "      <td>NaN</td>\n",
       "      <td>NaN</td>\n",
       "      <td>NaN</td>\n",
       "      <td>NaN</td>\n",
       "      <td>NaN</td>\n",
       "      <td>NaN</td>\n",
       "      <td>12/11/2024</td>\n",
       "      <td>12/11/2025</td>\n",
       "      <td>19-MT-002754</td>\n",
       "      <td>8146 Beechcraft Ave.\\nGaithersburg, MD 20879\\n...</td>\n",
       "    </tr>\n",
       "    <tr>\n",
       "      <th>1</th>\n",
       "      <td>Corporation</td>\n",
       "      <td>E &amp; S Towing Services, Inc.</td>\n",
       "      <td>E &amp; S Towing Service</td>\n",
       "      <td>15814 Paramount Dr</td>\n",
       "      <td>NaN</td>\n",
       "      <td>Rockville</td>\n",
       "      <td>MD</td>\n",
       "      <td>20855</td>\n",
       "      <td>(240) 304-9367</td>\n",
       "      <td>0</td>\n",
       "      <td>15814 Paramount Dr</td>\n",
       "      <td>NaN</td>\n",
       "      <td>Rockville</td>\n",
       "      <td>MD</td>\n",
       "      <td>20906</td>\n",
       "      <td>(240) 304-9367</td>\n",
       "      <td>12/02/2024</td>\n",
       "      <td>12/02/2025</td>\n",
       "      <td>20-MT-005316</td>\n",
       "      <td>15814 Paramount Dr\\nRockville, MD 20855\\n(39.1...</td>\n",
       "    </tr>\n",
       "    <tr>\n",
       "      <th>2</th>\n",
       "      <td>Corporation</td>\n",
       "      <td>Mohamed M. Kheiry, LLC</td>\n",
       "      <td>Satellite Motors</td>\n",
       "      <td>8109 Mayor Lane</td>\n",
       "      <td>NaN</td>\n",
       "      <td>Silver Spring</td>\n",
       "      <td>MD</td>\n",
       "      <td>20910</td>\n",
       "      <td>(301) 585-7876</td>\n",
       "      <td>0</td>\n",
       "      <td>NaN</td>\n",
       "      <td>NaN</td>\n",
       "      <td>NaN</td>\n",
       "      <td>NaN</td>\n",
       "      <td>NaN</td>\n",
       "      <td>NaN</td>\n",
       "      <td>12/22/2024</td>\n",
       "      <td>12/22/2027</td>\n",
       "      <td>17-MT-001433</td>\n",
       "      <td>8109 Mayor Lane\\nSilver Spring, MD 20910\\n(38....</td>\n",
       "    </tr>\n",
       "  </tbody>\n",
       "</table>\n",
       "</div>"
      ],
      "text/plain": [
       "  Registration Type                     Corporation Name  \\\n",
       "0       Corporation  MG Auto & Truck Repair Services LLC   \n",
       "1       Corporation          E & S Towing Services, Inc.   \n",
       "2       Corporation               Mohamed M. Kheiry, LLC   \n",
       "\n",
       "                            Trade Name      Business Address  \\\n",
       "0  MG Auto & Truck Repair Services LLC  8146 Beechcraft Ave.   \n",
       "1                 E & S Towing Service    15814 Paramount Dr   \n",
       "2                     Satellite Motors       8109 Mayor Lane   \n",
       "\n",
       "  Business Address2           City State    Zip    Phone Number  \\\n",
       "0              8146   Gaithersburg    MD  20879  (301) 848-1294   \n",
       "1               NaN      Rockville    MD  20855  (240) 304-9367   \n",
       "2               NaN  Silver Spring    MD  20910  (301) 585-7876   \n",
       "\n",
       "   # ASE Certified Mechanics Tow Storage Address  Tow Storage 2  \\\n",
       "0                          0                  NaN           NaN   \n",
       "1                          0   15814 Paramount Dr           NaN   \n",
       "2                          0                  NaN           NaN   \n",
       "\n",
       "  Tow Storage City Tow Storage State Tow Storage Zip Tow Storage Phone  \\\n",
       "0              NaN               NaN             NaN               NaN   \n",
       "1        Rockville                MD           20906    (240) 304-9367   \n",
       "2              NaN               NaN             NaN               NaN   \n",
       "\n",
       "   Issue Date  Expiration Registration No.  \\\n",
       "0  12/11/2024  12/11/2025     19-MT-002754   \n",
       "1  12/02/2024  12/02/2025     20-MT-005316   \n",
       "2  12/22/2024  12/22/2027     17-MT-001433   \n",
       "\n",
       "                                            Location  \n",
       "0  8146 Beechcraft Ave.\\nGaithersburg, MD 20879\\n...  \n",
       "1  15814 Paramount Dr\\nRockville, MD 20855\\n(39.1...  \n",
       "2  8109 Mayor Lane\\nSilver Spring, MD 20910\\n(38....  "
      ]
     },
     "execution_count": 36,
     "metadata": {},
     "output_type": "execute_result"
    }
   ],
   "source": [
    "dataset = pd.read_csv(\"data/Repair_Motor_vehicle.csv\")\n",
    "dataset.head(3)"
   ]
  },
  {
   "cell_type": "code",
   "execution_count": 37,
   "id": "4de4e555",
   "metadata": {},
   "outputs": [
    {
     "data": {
      "text/plain": [
       "0       False\n",
       "1       False\n",
       "2       False\n",
       "3       False\n",
       "4       False\n",
       "        ...  \n",
       "2427    False\n",
       "2428    False\n",
       "2429    False\n",
       "2430    False\n",
       "2431    False\n",
       "Length: 2432, dtype: bool"
      ]
     },
     "execution_count": 37,
     "metadata": {},
     "output_type": "execute_result"
    }
   ],
   "source": [
    "dataset.duplicated()"
   ]
  },
  {
   "cell_type": "code",
   "execution_count": 39,
   "id": "4963658d",
   "metadata": {},
   "outputs": [
    {
     "data": {
      "text/plain": [
       "(2432, 20)"
      ]
     },
     "execution_count": 39,
     "metadata": {},
     "output_type": "execute_result"
    }
   ],
   "source": [
    "dataset.shape"
   ]
  },
  {
   "cell_type": "code",
   "execution_count": 40,
   "id": "fc7a0e10",
   "metadata": {},
   "outputs": [],
   "source": [
    "dataset.drop_duplicates(inplace=True)"
   ]
  },
  {
   "cell_type": "code",
   "execution_count": null,
   "id": "9d8fd039",
   "metadata": {},
   "outputs": [],
   "source": []
  },
  {
   "cell_type": "code",
   "execution_count": 41,
   "id": "0522a682",
   "metadata": {},
   "outputs": [
    {
     "data": {
      "text/plain": [
       "(2432, 20)"
      ]
     },
     "execution_count": 41,
     "metadata": {},
     "output_type": "execute_result"
    }
   ],
   "source": [
    "dataset.shape"
   ]
  }
 ],
 "metadata": {
  "kernelspec": {
   "display_name": "Python 3",
   "language": "python",
   "name": "python3"
  },
  "language_info": {
   "codemirror_mode": {
    "name": "ipython",
    "version": 3
   },
   "file_extension": ".py",
   "mimetype": "text/x-python",
   "name": "python",
   "nbconvert_exporter": "python",
   "pygments_lexer": "ipython3",
   "version": "3.10.11"
  }
 },
 "nbformat": 4,
 "nbformat_minor": 5
}
