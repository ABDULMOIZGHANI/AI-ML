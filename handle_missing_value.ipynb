{
 "cells": [
  {
   "cell_type": "code",
   "execution_count": 9,
   "id": "acd16143",
   "metadata": {},
   "outputs": [],
   "source": [
    "import pandas as pd\n",
    "import seaborn as sns\n",
    "import matplotlib.pyplot as plt\n",
    "from sklearn.impute import SimpleImputer"
   ]
  },
  {
   "cell_type": "code",
   "execution_count": 2,
   "id": "e30c34d3",
   "metadata": {},
   "outputs": [
    {
     "data": {
      "text/plain": [
       "(2432, 20)"
      ]
     },
     "execution_count": 2,
     "metadata": {},
     "output_type": "execute_result"
    }
   ],
   "source": [
    "dataset = pd.read_csv(\"data/Repair_Motor_vehicle.csv\")\n",
    "dataset.shape"
   ]
  },
  {
   "cell_type": "code",
   "execution_count": 3,
   "id": "bffbc52b",
   "metadata": {},
   "outputs": [
    {
     "name": "stdout",
     "output_type": "stream",
     "text": [
      "<class 'pandas.core.frame.DataFrame'>\n",
      "RangeIndex: 2432 entries, 0 to 2431\n",
      "Data columns (total 20 columns):\n",
      " #   Column                     Non-Null Count  Dtype \n",
      "---  ------                     --------------  ----- \n",
      " 0   Registration Type          2432 non-null   object\n",
      " 1   Corporation Name           1818 non-null   object\n",
      " 2   Trade Name                 2428 non-null   object\n",
      " 3   Business Address           2353 non-null   object\n",
      " 4   Business Address2          116 non-null    object\n",
      " 5   City                       2389 non-null   object\n",
      " 6   State                      2389 non-null   object\n",
      " 7   Zip                        1301 non-null   object\n",
      " 8   Phone Number               2377 non-null   object\n",
      " 9   # ASE Certified Mechanics  2432 non-null   int64 \n",
      " 10  Tow Storage Address        248 non-null    object\n",
      " 11  Tow Storage 2              12 non-null     object\n",
      " 12  Tow Storage City           208 non-null    object\n",
      " 13  Tow Storage State          207 non-null    object\n",
      " 14  Tow Storage Zip            205 non-null    object\n",
      " 15  Tow Storage Phone          178 non-null    object\n",
      " 16  Issue Date                 2432 non-null   object\n",
      " 17  Expiration                 2432 non-null   object\n",
      " 18  Registration No.           2432 non-null   object\n",
      " 19  Location                   2389 non-null   object\n",
      "dtypes: int64(1), object(19)\n",
      "memory usage: 380.1+ KB\n"
     ]
    }
   ],
   "source": [
    "dataset.info()"
   ]
  },
  {
   "cell_type": "code",
   "execution_count": 7,
   "id": "fe7c790a",
   "metadata": {},
   "outputs": [
    {
     "data": {
      "text/plain": [
       "Index(['# ASE Certified Mechanics'], dtype='object')"
      ]
     },
     "execution_count": 7,
     "metadata": {},
     "output_type": "execute_result"
    }
   ],
   "source": [
    "\n",
    "dataset.select_dtypes(include=\"int64\").columns"
   ]
  },
  {
   "cell_type": "code",
   "execution_count": 10,
   "id": "a46d7263",
   "metadata": {},
   "outputs": [],
   "source": [
    "si  = SimpleImputer(strategy=\"mean\")"
   ]
  },
  {
   "cell_type": "code",
   "execution_count": 11,
   "id": "8d999a2a",
   "metadata": {},
   "outputs": [
    {
     "data": {
      "text/plain": [
       "array([[0.],\n",
       "       [0.],\n",
       "       [0.],\n",
       "       ...,\n",
       "       [0.],\n",
       "       [0.],\n",
       "       [0.]])"
      ]
     },
     "execution_count": 11,
     "metadata": {},
     "output_type": "execute_result"
    }
   ],
   "source": [
    "si.fit_transform(dataset[['# ASE Certified Mechanics']])"
   ]
  }
 ],
 "metadata": {
  "kernelspec": {
   "display_name": "Python 3",
   "language": "python",
   "name": "python3"
  },
  "language_info": {
   "codemirror_mode": {
    "name": "ipython",
    "version": 3
   },
   "file_extension": ".py",
   "mimetype": "text/x-python",
   "name": "python",
   "nbconvert_exporter": "python",
   "pygments_lexer": "ipython3",
   "version": "3.10.11"
  }
 },
 "nbformat": 4,
 "nbformat_minor": 5
}
