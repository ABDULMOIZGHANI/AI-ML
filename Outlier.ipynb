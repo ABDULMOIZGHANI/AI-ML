{
 "cells": [
  {
   "cell_type": "code",
   "execution_count": 1,
   "id": "319f647f",
   "metadata": {},
   "outputs": [],
   "source": [
    "import pandas as pd\n",
    "import seaborn as sns\n",
    "import matplotlib.pyplot as plt"
   ]
  },
  {
   "cell_type": "code",
   "execution_count": 2,
   "id": "0442f2ea",
   "metadata": {},
   "outputs": [
    {
     "data": {
      "text/html": [
       "<div>\n",
       "<style scoped>\n",
       "    .dataframe tbody tr th:only-of-type {\n",
       "        vertical-align: middle;\n",
       "    }\n",
       "\n",
       "    .dataframe tbody tr th {\n",
       "        vertical-align: top;\n",
       "    }\n",
       "\n",
       "    .dataframe thead th {\n",
       "        text-align: right;\n",
       "    }\n",
       "</style>\n",
       "<table border=\"1\" class=\"dataframe\">\n",
       "  <thead>\n",
       "    <tr style=\"text-align: right;\">\n",
       "      <th></th>\n",
       "      <th>Registration Type</th>\n",
       "      <th>Corporation Name</th>\n",
       "      <th>Trade Name</th>\n",
       "      <th>Business Address</th>\n",
       "      <th>Business Address2</th>\n",
       "      <th>City</th>\n",
       "      <th>State</th>\n",
       "      <th>Zip</th>\n",
       "      <th>Phone Number</th>\n",
       "      <th># ASE Certified Mechanics</th>\n",
       "      <th>Tow Storage Address</th>\n",
       "      <th>Tow Storage 2</th>\n",
       "      <th>Tow Storage City</th>\n",
       "      <th>Tow Storage State</th>\n",
       "      <th>Tow Storage Zip</th>\n",
       "      <th>Tow Storage Phone</th>\n",
       "      <th>Issue Date</th>\n",
       "      <th>Expiration</th>\n",
       "      <th>Registration No.</th>\n",
       "      <th>Location</th>\n",
       "    </tr>\n",
       "  </thead>\n",
       "  <tbody>\n",
       "    <tr>\n",
       "      <th>0</th>\n",
       "      <td>Corporation</td>\n",
       "      <td>MG Auto &amp; Truck Repair Services LLC</td>\n",
       "      <td>MG Auto &amp; Truck Repair Services LLC</td>\n",
       "      <td>8146 Beechcraft Ave.</td>\n",
       "      <td>8146</td>\n",
       "      <td>Gaithersburg</td>\n",
       "      <td>MD</td>\n",
       "      <td>20879</td>\n",
       "      <td>(301) 848-1294</td>\n",
       "      <td>0</td>\n",
       "      <td>NaN</td>\n",
       "      <td>NaN</td>\n",
       "      <td>NaN</td>\n",
       "      <td>NaN</td>\n",
       "      <td>NaN</td>\n",
       "      <td>NaN</td>\n",
       "      <td>12/11/2024</td>\n",
       "      <td>12/11/2025</td>\n",
       "      <td>19-MT-002754</td>\n",
       "      <td>8146 Beechcraft Ave.\\nGaithersburg, MD 20879\\n...</td>\n",
       "    </tr>\n",
       "    <tr>\n",
       "      <th>1</th>\n",
       "      <td>Corporation</td>\n",
       "      <td>E &amp; S Towing Services, Inc.</td>\n",
       "      <td>E &amp; S Towing Service</td>\n",
       "      <td>15814 Paramount Dr</td>\n",
       "      <td>NaN</td>\n",
       "      <td>Rockville</td>\n",
       "      <td>MD</td>\n",
       "      <td>20855</td>\n",
       "      <td>(240) 304-9367</td>\n",
       "      <td>0</td>\n",
       "      <td>15814 Paramount Dr</td>\n",
       "      <td>NaN</td>\n",
       "      <td>Rockville</td>\n",
       "      <td>MD</td>\n",
       "      <td>20906</td>\n",
       "      <td>(240) 304-9367</td>\n",
       "      <td>12/02/2024</td>\n",
       "      <td>12/02/2025</td>\n",
       "      <td>20-MT-005316</td>\n",
       "      <td>15814 Paramount Dr\\nRockville, MD 20855\\n(39.1...</td>\n",
       "    </tr>\n",
       "    <tr>\n",
       "      <th>2</th>\n",
       "      <td>Corporation</td>\n",
       "      <td>Mohamed M. Kheiry, LLC</td>\n",
       "      <td>Satellite Motors</td>\n",
       "      <td>8109 Mayor Lane</td>\n",
       "      <td>NaN</td>\n",
       "      <td>Silver Spring</td>\n",
       "      <td>MD</td>\n",
       "      <td>20910</td>\n",
       "      <td>(301) 585-7876</td>\n",
       "      <td>0</td>\n",
       "      <td>NaN</td>\n",
       "      <td>NaN</td>\n",
       "      <td>NaN</td>\n",
       "      <td>NaN</td>\n",
       "      <td>NaN</td>\n",
       "      <td>NaN</td>\n",
       "      <td>12/22/2024</td>\n",
       "      <td>12/22/2027</td>\n",
       "      <td>17-MT-001433</td>\n",
       "      <td>8109 Mayor Lane\\nSilver Spring, MD 20910\\n(38....</td>\n",
       "    </tr>\n",
       "  </tbody>\n",
       "</table>\n",
       "</div>"
      ],
      "text/plain": [
       "  Registration Type                     Corporation Name  \\\n",
       "0       Corporation  MG Auto & Truck Repair Services LLC   \n",
       "1       Corporation          E & S Towing Services, Inc.   \n",
       "2       Corporation               Mohamed M. Kheiry, LLC   \n",
       "\n",
       "                            Trade Name      Business Address  \\\n",
       "0  MG Auto & Truck Repair Services LLC  8146 Beechcraft Ave.   \n",
       "1                 E & S Towing Service    15814 Paramount Dr   \n",
       "2                     Satellite Motors       8109 Mayor Lane   \n",
       "\n",
       "  Business Address2           City State    Zip    Phone Number  \\\n",
       "0              8146   Gaithersburg    MD  20879  (301) 848-1294   \n",
       "1               NaN      Rockville    MD  20855  (240) 304-9367   \n",
       "2               NaN  Silver Spring    MD  20910  (301) 585-7876   \n",
       "\n",
       "   # ASE Certified Mechanics Tow Storage Address  Tow Storage 2  \\\n",
       "0                          0                  NaN           NaN   \n",
       "1                          0   15814 Paramount Dr           NaN   \n",
       "2                          0                  NaN           NaN   \n",
       "\n",
       "  Tow Storage City Tow Storage State Tow Storage Zip Tow Storage Phone  \\\n",
       "0              NaN               NaN             NaN               NaN   \n",
       "1        Rockville                MD           20906    (240) 304-9367   \n",
       "2              NaN               NaN             NaN               NaN   \n",
       "\n",
       "   Issue Date  Expiration Registration No.  \\\n",
       "0  12/11/2024  12/11/2025     19-MT-002754   \n",
       "1  12/02/2024  12/02/2025     20-MT-005316   \n",
       "2  12/22/2024  12/22/2027     17-MT-001433   \n",
       "\n",
       "                                            Location  \n",
       "0  8146 Beechcraft Ave.\\nGaithersburg, MD 20879\\n...  \n",
       "1  15814 Paramount Dr\\nRockville, MD 20855\\n(39.1...  \n",
       "2  8109 Mayor Lane\\nSilver Spring, MD 20910\\n(38....  "
      ]
     },
     "execution_count": 2,
     "metadata": {},
     "output_type": "execute_result"
    }
   ],
   "source": [
    "dataset = pd.read_csv(\"data/Repair_Motor_vehicle.csv\")\n",
    "dataset.head(3)"
   ]
  },
  {
   "cell_type": "code",
   "execution_count": 3,
   "id": "eadb9011",
   "metadata": {},
   "outputs": [
    {
     "data": {
      "text/html": [
       "<div>\n",
       "<style scoped>\n",
       "    .dataframe tbody tr th:only-of-type {\n",
       "        vertical-align: middle;\n",
       "    }\n",
       "\n",
       "    .dataframe tbody tr th {\n",
       "        vertical-align: top;\n",
       "    }\n",
       "\n",
       "    .dataframe thead th {\n",
       "        text-align: right;\n",
       "    }\n",
       "</style>\n",
       "<table border=\"1\" class=\"dataframe\">\n",
       "  <thead>\n",
       "    <tr style=\"text-align: right;\">\n",
       "      <th></th>\n",
       "      <th># ASE Certified Mechanics</th>\n",
       "    </tr>\n",
       "  </thead>\n",
       "  <tbody>\n",
       "    <tr>\n",
       "      <th>count</th>\n",
       "      <td>2432.000000</td>\n",
       "    </tr>\n",
       "    <tr>\n",
       "      <th>mean</th>\n",
       "      <td>0.372944</td>\n",
       "    </tr>\n",
       "    <tr>\n",
       "      <th>std</th>\n",
       "      <td>1.306053</td>\n",
       "    </tr>\n",
       "    <tr>\n",
       "      <th>min</th>\n",
       "      <td>0.000000</td>\n",
       "    </tr>\n",
       "    <tr>\n",
       "      <th>25%</th>\n",
       "      <td>0.000000</td>\n",
       "    </tr>\n",
       "    <tr>\n",
       "      <th>50%</th>\n",
       "      <td>0.000000</td>\n",
       "    </tr>\n",
       "    <tr>\n",
       "      <th>75%</th>\n",
       "      <td>0.000000</td>\n",
       "    </tr>\n",
       "    <tr>\n",
       "      <th>max</th>\n",
       "      <td>25.000000</td>\n",
       "    </tr>\n",
       "  </tbody>\n",
       "</table>\n",
       "</div>"
      ],
      "text/plain": [
       "       # ASE Certified Mechanics\n",
       "count                2432.000000\n",
       "mean                    0.372944\n",
       "std                     1.306053\n",
       "min                     0.000000\n",
       "25%                     0.000000\n",
       "50%                     0.000000\n",
       "75%                     0.000000\n",
       "max                    25.000000"
      ]
     },
     "execution_count": 3,
     "metadata": {},
     "output_type": "execute_result"
    }
   ],
   "source": [
    "dataset.describe()"
   ]
  },
  {
   "cell_type": "code",
   "execution_count": 4,
   "id": "8e538d66",
   "metadata": {},
   "outputs": [
    {
     "data": {
      "image/png": "[encoded data removed]",
      "text/plain": [
       "<Figure size 640x480 with 1 Axes>"
      ]
     },
     "metadata": {},
     "output_type": "display_data"
    }
   ],
   "source": [
    "sns.boxplot(x=\"# ASE Certified Mechanics\", data=dataset)\n",
    "plt.show()"
   ]
  },
  {
   "cell_type": "code",
   "execution_count": 5,
   "id": "d3c0e525",
   "metadata": {},
   "outputs": [
    {
     "data": {
      "image/png": "[encoded data removed]",
      "text/plain": [
       "<Figure size 500x500 with 1 Axes>"
      ]
     },
     "metadata": {},
     "output_type": "display_data"
    }
   ],
   "source": [
    "sns.displot(dataset[\"# ASE Certified Mechanics\"])\n",
    "plt.show()"
   ]
  }
 ],
 "metadata": {
  "kernelspec": {
   "display_name": "Python 3",
   "language": "python",
   "name": "python3"
  },
  "language_info": {
   "codemirror_mode": {
    "name": "ipython",
    "version": 3
   },
   "file_extension": ".py",
   "mimetype": "text/x-python",
   "name": "python",
   "nbconvert_exporter": "python",
   "pygments_lexer": "ipython3",
   "version": "3.10.11"
  }
 },
 "nbformat": 4,
 "nbformat_minor": 5
}
